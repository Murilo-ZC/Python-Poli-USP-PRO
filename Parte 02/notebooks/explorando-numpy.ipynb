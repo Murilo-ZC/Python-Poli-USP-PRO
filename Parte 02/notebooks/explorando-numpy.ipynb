{
 "cells": [
  {
   "cell_type": "markdown",
   "id": "c57fe4c3",
   "metadata": {},
   "source": [
    "# Explorando o NumPy\n",
    "\n",
    "O objetivo deste notebook é explorar a biblioteca ***NumPy***.\n",
    "A documentação oficial pode ser encontrada no [link](https://numpy.org/doc/stable/).\n",
    "O logo oficial do projeto é:\n",
    "\n",
    "<img src=\"https://numpy.org/doc/stable/_static/numpylogo.svg\">"
   ]
  },
  {
   "cell_type": "code",
   "execution_count": 1,
   "id": "567d956d",
   "metadata": {},
   "outputs": [],
   "source": [
    "# Importa o pacote do NumPy\n",
    "import numpy as np"
   ]
  },
  {
   "cell_type": "code",
   "execution_count": 2,
   "id": "15373b20",
   "metadata": {},
   "outputs": [],
   "source": [
    "# Trabalhando com Array's\n",
    "a = np.array([1,2,3,-3])"
   ]
  },
  {
   "cell_type": "code",
   "execution_count": 3,
   "id": "ac73e44b",
   "metadata": {},
   "outputs": [
    {
     "data": {
      "text/plain": [
       "numpy.ndarray"
      ]
     },
     "execution_count": 3,
     "metadata": {},
     "output_type": "execute_result"
    }
   ],
   "source": [
    "# Verifica o tipo de a\n",
    "type(a)"
   ]
  },
  {
   "cell_type": "code",
   "execution_count": 4,
   "id": "1d159a1a",
   "metadata": {},
   "outputs": [
    {
     "data": {
      "text/plain": [
       "4"
      ]
     },
     "execution_count": 4,
     "metadata": {},
     "output_type": "execute_result"
    }
   ],
   "source": [
    "# Verifica a quantidade de elementos de a\n",
    "len(a)"
   ]
  },
  {
   "cell_type": "code",
   "execution_count": 5,
   "id": "82d44bd6",
   "metadata": {},
   "outputs": [
    {
     "name": "stdout",
     "output_type": "stream",
     "text": [
      "[ 1  2  3 -3]\n",
      "[-3  1  2  3]\n"
     ]
    }
   ],
   "source": [
    "# Podemos colocar os elementos de um array em ordem com o método sort()\n",
    "print(a)\n",
    "a.sort()\n",
    "print(a)"
   ]
  },
  {
   "cell_type": "code",
   "execution_count": 6,
   "id": "fa55ca97",
   "metadata": {},
   "outputs": [],
   "source": [
    "# Gerando uma sequencia de valores com o arange()\n",
    "sequencia = np.arange(10)"
   ]
  },
  {
   "cell_type": "code",
   "execution_count": 7,
   "id": "f07e3032",
   "metadata": {},
   "outputs": [
    {
     "data": {
      "text/plain": [
       "10"
      ]
     },
     "execution_count": 7,
     "metadata": {},
     "output_type": "execute_result"
    }
   ],
   "source": [
    "len(sequencia)"
   ]
  },
  {
   "cell_type": "code",
   "execution_count": 8,
   "id": "113073a4",
   "metadata": {},
   "outputs": [
    {
     "data": {
      "text/plain": [
       "numpy.ndarray"
      ]
     },
     "execution_count": 8,
     "metadata": {},
     "output_type": "execute_result"
    }
   ],
   "source": [
    "type(sequencia)"
   ]
  },
  {
   "cell_type": "code",
   "execution_count": 9,
   "id": "5aac5778",
   "metadata": {},
   "outputs": [
    {
     "name": "stdout",
     "output_type": "stream",
     "text": [
      "[0 1 2 3 4 5 6 7 8 9]\n"
     ]
    }
   ],
   "source": [
    "print(sequencia)"
   ]
  },
  {
   "cell_type": "code",
   "execution_count": 10,
   "id": "7492a5fd",
   "metadata": {},
   "outputs": [
    {
     "name": "stdout",
     "output_type": "stream",
     "text": [
      "0\n",
      "1\n",
      "2\n",
      "3\n",
      "4\n",
      "5\n",
      "6\n",
      "7\n",
      "8\n",
      "9\n"
     ]
    }
   ],
   "source": [
    "for elemento in sequencia:\n",
    "    print(elemento)"
   ]
  },
  {
   "cell_type": "code",
   "execution_count": 12,
   "id": "442b058e",
   "metadata": {},
   "outputs": [
    {
     "data": {
      "text/plain": [
       "array([ 0, 10, 20, 30, 40, 50, 60, 70, 80, 90])"
      ]
     },
     "execution_count": 12,
     "metadata": {},
     "output_type": "execute_result"
    }
   ],
   "source": [
    "# Operações com todos os elementos do array\n",
    "10 * sequencia"
   ]
  },
  {
   "cell_type": "code",
   "execution_count": 13,
   "id": "fe6e6f01",
   "metadata": {},
   "outputs": [
    {
     "data": {
      "text/plain": [
       "array([ 0,  1,  4,  9, 16, 25, 36, 49, 64, 81])"
      ]
     },
     "execution_count": 13,
     "metadata": {},
     "output_type": "execute_result"
    }
   ],
   "source": [
    "sequencia ** 2"
   ]
  },
  {
   "cell_type": "code",
   "execution_count": 14,
   "id": "9b1202a7",
   "metadata": {},
   "outputs": [
    {
     "data": {
      "text/plain": [
       "array([0. , 0.4, 0.8, 1.2, 1.6, 2. , 2.4, 2.8, 3.2, 3.6])"
      ]
     },
     "execution_count": 14,
     "metadata": {},
     "output_type": "execute_result"
    }
   ],
   "source": [
    "sequencia / 2.5"
   ]
  },
  {
   "cell_type": "code",
   "execution_count": 15,
   "id": "a136b139",
   "metadata": {},
   "outputs": [
    {
     "name": "stdout",
     "output_type": "stream",
     "text": [
      "Tempo com lista: 2.5062967999838293\n",
      "Tempo com array: 1.1423391999851447\n"
     ]
    }
   ],
   "source": [
    "# Verificando o tempo para a execução das operações a seguir\n",
    "import timeit\n",
    "# Utilizando uma lista e list comprehension, calcula o quadrado de 50 elementos\n",
    "t1 = timeit.timeit(\"[i**2 for i in range(50)]\")\n",
    "# Realiza a mesma operação anterior, mas agora utilizando um array do NumPy\n",
    "t2 = timeit.timeit(\"import numpy as np;np.arange(50)**2\")\n",
    "# Exibe os tempos\n",
    "print(f\"Tempo com lista: {t1}\")\n",
    "print(f\"Tempo com array: {t2}\")"
   ]
  },
  {
   "cell_type": "code",
   "execution_count": 19,
   "id": "9fb2fae5",
   "metadata": {},
   "outputs": [
    {
     "name": "stdout",
     "output_type": "stream",
     "text": [
      "2.52 ms ± 178 µs per loop (mean ± std. dev. of 7 runs, 100 loops each)\n"
     ]
    }
   ],
   "source": [
    "%%timeit\n",
    "# Marcando o tempo de execução da célula\n",
    "[i**2 for i in range(50000)]"
   ]
  },
  {
   "cell_type": "code",
   "execution_count": 20,
   "id": "b34846a0",
   "metadata": {},
   "outputs": [
    {
     "name": "stdout",
     "output_type": "stream",
     "text": [
      "44.2 µs ± 2.22 µs per loop (mean ± std. dev. of 7 runs, 10,000 loops each)\n"
     ]
    }
   ],
   "source": [
    "%%timeit\n",
    "np.arange(50000)**2"
   ]
  },
  {
   "cell_type": "code",
   "execution_count": 22,
   "id": "fba3d18d",
   "metadata": {},
   "outputs": [],
   "source": [
    "# criando array's com mais de uma dimensão\n",
    "a = np.array([[1,2,3],[4,5,6]])"
   ]
  },
  {
   "cell_type": "code",
   "execution_count": 23,
   "id": "94edb6f6",
   "metadata": {},
   "outputs": [
    {
     "data": {
      "text/plain": [
       "array([[1, 2, 3],\n",
       "       [4, 5, 6]])"
      ]
     },
     "execution_count": 23,
     "metadata": {},
     "output_type": "execute_result"
    }
   ],
   "source": [
    "# exibindo o array\n",
    "a"
   ]
  },
  {
   "cell_type": "code",
   "execution_count": 24,
   "id": "d24da9c2",
   "metadata": {},
   "outputs": [
    {
     "data": {
      "text/plain": [
       "(2, 3)"
      ]
     },
     "execution_count": 24,
     "metadata": {},
     "output_type": "execute_result"
    }
   ],
   "source": [
    "# verificando o formato do array\n",
    "a.shape"
   ]
  },
  {
   "cell_type": "code",
   "execution_count": 26,
   "id": "626e5b1a",
   "metadata": {},
   "outputs": [
    {
     "name": "stdout",
     "output_type": "stream",
     "text": [
      "1\n",
      "[1 2 3]\n",
      "[1 4]\n"
     ]
    }
   ],
   "source": [
    "# exibindo um elemento\n",
    "print(a[0,0])\n",
    "# exibindo um linha toda\n",
    "print(a[0,:])\n",
    "# exibindo toda a coluna\n",
    "print(a[:,0])"
   ]
  },
  {
   "cell_type": "code",
   "execution_count": 27,
   "id": "2bb61f9c",
   "metadata": {},
   "outputs": [],
   "source": [
    "# criando uma matriz quadrada\n",
    "m1 = np.array([[1,2],[3,4]])"
   ]
  },
  {
   "cell_type": "code",
   "execution_count": 28,
   "id": "124e60c1",
   "metadata": {},
   "outputs": [],
   "source": [
    "# calculando a inversa da matriz\n",
    "m1inv = np.linalg.inv(m1)"
   ]
  },
  {
   "cell_type": "code",
   "execution_count": 30,
   "id": "4a4bf98c",
   "metadata": {},
   "outputs": [
    {
     "data": {
      "text/plain": [
       "array([[-2. ,  1. ],\n",
       "       [ 1.5, -0.5]])"
      ]
     },
     "execution_count": 30,
     "metadata": {},
     "output_type": "execute_result"
    }
   ],
   "source": [
    "# exibindo a inversa\n",
    "m1inv"
   ]
  },
  {
   "cell_type": "code",
   "execution_count": 31,
   "id": "7d5ffbec",
   "metadata": {},
   "outputs": [
    {
     "data": {
      "text/plain": [
       "array([[-1. ,  3. ],\n",
       "       [ 4.5,  3.5]])"
      ]
     },
     "execution_count": 31,
     "metadata": {},
     "output_type": "execute_result"
    }
   ],
   "source": [
    "# algumas operações com matrizes\n",
    "m1+m1inv"
   ]
  },
  {
   "cell_type": "code",
   "execution_count": 33,
   "id": "dafd3ead",
   "metadata": {},
   "outputs": [
    {
     "data": {
      "text/plain": [
       "array([[-2. ,  2. ],\n",
       "       [ 4.5, -2. ]])"
      ]
     },
     "execution_count": 33,
     "metadata": {},
     "output_type": "execute_result"
    }
   ],
   "source": [
    "# multiplicação elemento a elemento\n",
    "m1 * m1inv"
   ]
  },
  {
   "cell_type": "code",
   "execution_count": 34,
   "id": "53668375",
   "metadata": {},
   "outputs": [
    {
     "data": {
      "text/plain": [
       "array([[1.00000000e+00, 1.11022302e-16],\n",
       "       [0.00000000e+00, 1.00000000e+00]])"
      ]
     },
     "execution_count": 34,
     "metadata": {},
     "output_type": "execute_result"
    }
   ],
   "source": [
    "# multiplicação de matrizes\n",
    "m1 @ m1inv"
   ]
  },
  {
   "cell_type": "code",
   "execution_count": 35,
   "id": "3e34115b",
   "metadata": {},
   "outputs": [],
   "source": [
    "# gerando números aleatórios\n",
    "from numpy.random import default_rng\n",
    "# cria o objeto responsáel por gerar essa distribuição\n",
    "rng = default_rng()"
   ]
  },
  {
   "cell_type": "code",
   "execution_count": 38,
   "id": "fa25c7ff",
   "metadata": {},
   "outputs": [],
   "source": [
    "# define o número de ponto\n",
    "numero_de_pontos = 50\n",
    "#gera os pontos\n",
    "pontos = rng.standard_normal(numero_de_pontos)"
   ]
  },
  {
   "cell_type": "code",
   "execution_count": 39,
   "id": "a8c5d9fd",
   "metadata": {},
   "outputs": [
    {
     "data": {
      "text/plain": [
       "array([-0.04414171,  0.48326844, -1.82179502,  0.2075269 , -0.94740581,\n",
       "        0.39105722,  0.28773254,  0.48968076, -0.04485033, -0.69228544,\n",
       "       -0.54014282, -1.05039648,  0.99090064,  0.2592426 , -0.21413677,\n",
       "        0.10074875,  0.04530761, -0.70158487,  0.15047095, -1.41618218,\n",
       "       -0.11200409, -0.22354691,  1.2147415 ,  2.20310314, -1.44180474,\n",
       "        1.62290108, -1.76434851, -1.91472663, -0.88298167, -0.01048881,\n",
       "       -1.24684851,  0.28803989,  0.93385995,  0.42288197, -1.91320682,\n",
       "       -1.32279149,  0.26033569,  0.43668176, -0.39146814,  0.53299396,\n",
       "        0.73166392,  1.00586372,  0.39013621,  0.86289115, -0.2368453 ,\n",
       "       -0.60949633, -0.86890905, -0.89606333, -0.25317582, -0.32694013])"
      ]
     },
     "execution_count": 39,
     "metadata": {},
     "output_type": "execute_result"
    }
   ],
   "source": [
    "# pontos gerados\n",
    "pontos"
   ]
  },
  {
   "cell_type": "code",
   "execution_count": 40,
   "id": "2e031be8",
   "metadata": {},
   "outputs": [],
   "source": [
    "# escolhando um valor de seed fixo para sempre possuir os \n",
    "# mesmos valores sendo gerados\n",
    "rng2 = default_rng(seed = 42)"
   ]
  },
  {
   "cell_type": "code",
   "execution_count": 92,
   "id": "c1101567",
   "metadata": {},
   "outputs": [
    {
     "data": {
      "text/plain": [
       "array([[ 0.8784503 , -0.04992591, -0.18486236],\n",
       "       [-0.68092954,  1.22254134, -0.15452948],\n",
       "       [-0.42832782, -0.35213355,  0.53230919]])"
      ]
     },
     "execution_count": 92,
     "metadata": {},
     "output_type": "execute_result"
    }
   ],
   "source": [
    "pontos = rng2.standard_normal((3,3))\n",
    "pontos"
   ]
  },
  {
   "cell_type": "code",
   "execution_count": 94,
   "id": "4da4fe57",
   "metadata": {},
   "outputs": [
    {
     "data": {
      "text/plain": [
       "array([[-0.81377273,  0.61597942,  1.12897229],\n",
       "       [-0.11394746, -0.84015648, -0.82448122]])"
      ]
     },
     "execution_count": 94,
     "metadata": {},
     "output_type": "execute_result"
    }
   ],
   "source": [
    "pontos2 = rng2.standard_normal((2,3))\n",
    "pontos2"
   ]
  },
  {
   "cell_type": "code",
   "execution_count": 96,
   "id": "e84a8be2",
   "metadata": {},
   "outputs": [
    {
     "data": {
      "text/plain": [
       "array([[1, 9],\n",
       "       [6, 7]], dtype=int64)"
      ]
     },
     "execution_count": 96,
     "metadata": {},
     "output_type": "execute_result"
    }
   ],
   "source": [
    "# geração de números inteiros\n",
    "pontos_inteiros = rng2.integers(0,10,(2,2), endpoint=True)\n",
    "pontos_inteiros"
   ]
  },
  {
   "cell_type": "code",
   "execution_count": 97,
   "id": "6fe4decd",
   "metadata": {},
   "outputs": [],
   "source": [
    "# importando a biblioteca para trabalhar com polinômios\n",
    "from numpy.polynomial import Polynomial "
   ]
  },
  {
   "cell_type": "code",
   "execution_count": 98,
   "id": "53ea7f06",
   "metadata": {},
   "outputs": [
    {
     "data": {
      "text/latex": [
       "$x \\mapsto \\text{1.0} + \\text{2.0}\\,x + \\text{3.0}\\,x^{2}$"
      ],
      "text/plain": [
       "Polynomial([1., 2., 3.], domain=[-1,  1], window=[-1,  1], symbol='x')"
      ]
     },
     "execution_count": 98,
     "metadata": {},
     "output_type": "execute_result"
    }
   ],
   "source": [
    "# criando um polinômio\n",
    "p1 = Polynomial([1,2,3])\n",
    "p1"
   ]
  },
  {
   "cell_type": "code",
   "execution_count": 100,
   "id": "b0a03eee",
   "metadata": {},
   "outputs": [
    {
     "data": {
      "text/latex": [
       "$x \\mapsto \\color{LightGray}{\\text{0.0}} + \\text{1.0}\\,x\\color{LightGray}{ + \\text{0.0}\\,x^{2}} + \\text{5.0}\\,x^{3}$"
      ],
      "text/plain": [
       "Polynomial([0., 1., 0., 5.], domain=[-1,  1], window=[-1,  1], symbol='x')"
      ]
     },
     "execution_count": 100,
     "metadata": {},
     "output_type": "execute_result"
    }
   ],
   "source": [
    "# criando um seguindo polinômio\n",
    "p2 = Polynomial([0,1,0,5])\n",
    "p2"
   ]
  },
  {
   "cell_type": "code",
   "execution_count": 103,
   "id": "3e4efbf9",
   "metadata": {},
   "outputs": [
    {
     "name": "stdout",
     "output_type": "stream",
     "text": [
      "[-0.33333333-0.47140452j -0.33333333+0.47140452j]\n"
     ]
    }
   ],
   "source": [
    "# características do polinômio\n",
    "print(p1.roots())"
   ]
  },
  {
   "cell_type": "code",
   "execution_count": 104,
   "id": "31027081",
   "metadata": {},
   "outputs": [
    {
     "data": {
      "text/plain": [
       "321.0"
      ]
     },
     "execution_count": 104,
     "metadata": {},
     "output_type": "execute_result"
    }
   ],
   "source": [
    "# aplicando um valor para o polinômio\n",
    "p1(10)"
   ]
  },
  {
   "cell_type": "code",
   "execution_count": 105,
   "id": "bcfb2b9b",
   "metadata": {},
   "outputs": [
    {
     "data": {
      "text/plain": [
       "array([  1.,   6.,  17.,  34.,  57.,  86., 121., 162., 209., 262.])"
      ]
     },
     "execution_count": 105,
     "metadata": {},
     "output_type": "execute_result"
    }
   ],
   "source": [
    "# aplicando um conjunto de valores\n",
    "intervalo = np.arange(10)\n",
    "p1(intervalo)"
   ]
  },
  {
   "cell_type": "code",
   "execution_count": 106,
   "id": "90fd65d4",
   "metadata": {},
   "outputs": [],
   "source": [
    "# gerando um polinômio para aproximar valores\n",
    "x = np.linspace(-10,10,100)\n",
    "y = np.random.default_rng().random((100,))"
   ]
  },
  {
   "cell_type": "code",
   "execution_count": 130,
   "id": "f07b7d2a",
   "metadata": {},
   "outputs": [],
   "source": [
    "# cria um polinômio para se aproximar dos valores\n",
    "p1 = Polynomial.fit(x,y,2) #Grau 2\n",
    "p2 = Polynomial.fit(x,y,3) #Grau 3\n",
    "p3 = Polynomial.fit(x,y,5) # Grau 5"
   ]
  },
  {
   "cell_type": "code",
   "execution_count": 124,
   "id": "3c898fdd",
   "metadata": {},
   "outputs": [],
   "source": [
    "# função para calcular o R2\n",
    "from sklearn.metrics import r2_score"
   ]
  },
  {
   "cell_type": "code",
   "execution_count": 131,
   "id": "9c92a9d7",
   "metadata": {},
   "outputs": [
    {
     "data": {
      "text/plain": [
       "0.014682010063378992"
      ]
     },
     "execution_count": 131,
     "metadata": {},
     "output_type": "execute_result"
    }
   ],
   "source": [
    "r2_score(y,p3(x))"
   ]
  },
  {
   "cell_type": "code",
   "execution_count": 132,
   "id": "a54526ba",
   "metadata": {},
   "outputs": [],
   "source": [
    "# importanto Matplotlib\n",
    "import matplotlib.pyplot as plt"
   ]
  },
  {
   "cell_type": "code",
   "execution_count": 136,
   "id": "9310941f",
   "metadata": {},
   "outputs": [
    {
     "data": {
      "image/png": "[encoded data removed]",
      "text/plain": [
       "<Figure size 640x480 with 1 Axes>"
      ]
     },
     "metadata": {},
     "output_type": "display_data"
    }
   ],
   "source": [
    "# criando um primeiro plot\n",
    "x = np.linspace(-4,4,50)\n",
    "y = np.sin(x)\n",
    "plt.plot(x,y)\n",
    "plt.show()"
   ]
  },
  {
   "cell_type": "code",
   "execution_count": 141,
   "id": "b58c7b4b",
   "metadata": {},
   "outputs": [
    {
     "data": {
      "image/png": "[encoded data removed]",
      "text/plain": [
       "<Figure size 640x480 with 1 Axes>"
      ]
     },
     "metadata": {},
     "output_type": "display_data"
    }
   ],
   "source": [
    "# podemos personalizar os gráficos\n",
    "x = np.linspace(-10,10,100)\n",
    "y1 = x**2 - 2*x + 3\n",
    "y2 = x**3 - 0.5*x\n",
    "plt.plot(x,y1, color=\"red\", linestyle=\"dashed\", label=\"Previsto\")\n",
    "plt.plot(x,y2, color=\"green\", label=\"Coletado\")\n",
    "plt.grid(True)\n",
    "plt.title(\"Previsões de Comportamento\")\n",
    "plt.xlabel(\"Valores de X\")\n",
    "plt.ylabel(\"Valores de Y\")\n",
    "plt.legend()\n",
    "plt.show()"
   ]
  }
 ],
 "metadata": {
  "kernelspec": {
   "display_name": "Python 3 (ipykernel)",
   "language": "python",
   "name": "python3"
  },
  "language_info": {
   "codemirror_mode": {
    "name": "ipython",
    "version": 3
   },
   "file_extension": ".py",
   "mimetype": "text/x-python",
   "name": "python",
   "nbconvert_exporter": "python",
   "pygments_lexer": "ipython3",
   "version": "3.11.4"
  }
 },
 "nbformat": 4,
 "nbformat_minor": 5
}
