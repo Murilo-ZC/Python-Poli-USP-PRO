{
 "cells": [
  {
   "cell_type": "code",
   "execution_count": 4,
   "id": "bb8b2cb0",
   "metadata": {},
   "outputs": [],
   "source": [
    "# algoritmo do bubble sort\n",
    "def bubble_sort(dados):\n",
    "    for ultimo in range(len(dados)-1, 0, -1):\n",
    "        for interno in range(ultimo):\n",
    "            if dados[interno] > dados[interno+1]:\n",
    "                temporario = dados[interno]\n",
    "                dados[interno] = dados[interno+1]\n",
    "                dados[interno+1] = temporario"
   ]
  },
  {
   "cell_type": "code",
   "execution_count": 5,
   "id": "9deb57fc",
   "metadata": {},
   "outputs": [],
   "source": [
    "# cria um vetor de elementos\n",
    "elementos = [1, 3 ,-5, -2, 10]"
   ]
  },
  {
   "cell_type": "code",
   "execution_count": 6,
   "id": "e7c98c5c",
   "metadata": {},
   "outputs": [],
   "source": [
    "# executa o bubble sort\n",
    "bubble_sort(elementos)"
   ]
  },
  {
   "cell_type": "code",
   "execution_count": 7,
   "id": "68b2ecbd",
   "metadata": {},
   "outputs": [
    {
     "name": "stdout",
     "output_type": "stream",
     "text": [
      "[-5, -2, 1, 3, 10]\n"
     ]
    }
   ],
   "source": [
    "# elementos agora estão em ordem\n",
    "print(elementos)"
   ]
  },
  {
   "cell_type": "code",
   "execution_count": 10,
   "id": "ff120f36",
   "metadata": {},
   "outputs": [],
   "source": [
    "# dados aleatórios\n",
    "import random\n",
    "n = 10000  # número de elementos na lista\n",
    "minimo = 1  # valor mínimo desejado\n",
    "maximo = 100  # valor máximo desejado\n",
    "\n",
    "lista_aleatoria = [random.randint(minimo, maximo) for _ in range(n)]"
   ]
  },
  {
   "cell_type": "code",
   "execution_count": 9,
   "id": "ca8ff161",
   "metadata": {},
   "outputs": [
    {
     "name": "stdout",
     "output_type": "stream",
     "text": [
      "2.65 s ± 56.1 ms per loop (mean ± std. dev. of 7 runs, 1 loop each)\n"
     ]
    }
   ],
   "source": [
    "%%timeit\n",
    "bubble_sort(lista_aleatoria)"
   ]
  },
  {
   "cell_type": "code",
   "execution_count": 11,
   "id": "269db316",
   "metadata": {},
   "outputs": [
    {
     "name": "stdout",
     "output_type": "stream",
     "text": [
      "32.2 µs ± 2.56 µs per loop (mean ± std. dev. of 7 runs, 10,000 loops each)\n"
     ]
    }
   ],
   "source": [
    "%%timeit\n",
    "lista_aleatoria.sort()"
   ]
  },
  {
   "cell_type": "code",
   "execution_count": 12,
   "id": "4e77b353",
   "metadata": {},
   "outputs": [],
   "source": [
    "class Grafo:\n",
    "    def __init__(self):\n",
    "        self.grafo = {}\n",
    "\n",
    "    def adicionar_vertice(self, vertice):\n",
    "        if vertice not in self.grafo:\n",
    "            self.grafo[vertice] = []\n",
    "\n",
    "    def adicionar_aresta(self, vertice1, vertice2):\n",
    "        if vertice1 in self.grafo:\n",
    "            self.grafo[vertice1].append(vertice2)\n",
    "        else:\n",
    "            self.grafo[vertice1] = [vertice2]\n",
    "\n",
    "    def mostrar_grafo(self):\n",
    "        for vertice, vizinhos in self.grafo.items():\n",
    "            print(f\"{vertice}: {', '.join(vizinhos)}\")"
   ]
  },
  {
   "cell_type": "code",
   "execution_count": 13,
   "id": "98cd3502",
   "metadata": {},
   "outputs": [
    {
     "name": "stdout",
     "output_type": "stream",
     "text": [
      "A: B\n",
      "B: C\n",
      "C: A\n"
     ]
    }
   ],
   "source": [
    "# Exemplo de uso:\n",
    "grafo = Grafo()\n",
    "grafo.adicionar_vertice(\"A\")\n",
    "grafo.adicionar_vertice(\"B\")\n",
    "grafo.adicionar_vertice(\"C\")\n",
    "\n",
    "grafo.adicionar_aresta(\"A\", \"B\")\n",
    "grafo.adicionar_aresta(\"B\", \"C\")\n",
    "grafo.adicionar_aresta(\"C\", \"A\")\n",
    "\n",
    "grafo.mostrar_grafo()"
   ]
  },
  {
   "cell_type": "code",
   "execution_count": 16,
   "id": "b6b8b487",
   "metadata": {},
   "outputs": [],
   "source": [
    "import sys\n",
    "\n",
    "class Grafo:\n",
    "    def __init__(self):\n",
    "        self.grafo = {}\n",
    "\n",
    "    def adicionar_vertice(self, vertice):\n",
    "        if vertice not in self.grafo:\n",
    "            self.grafo[vertice] = {}\n",
    "\n",
    "    def adicionar_aresta(self, vertice1, vertice2, peso):\n",
    "        self.adicionar_vertice(vertice1)\n",
    "        self.adicionar_vertice(vertice2)\n",
    "        self.grafo[vertice1][vertice2] = peso\n",
    "        self.grafo[vertice2][vertice1] = peso  # Se o grafo for não direcionado\n",
    "\n",
    "    def mostrar_grafo(self):\n",
    "        for vertice, vizinhos in self.grafo.items():\n",
    "            print(f\"{vertice}: {', '.join(vizinhos)}\")\n",
    "\n",
    "    def dijkstra(self, origem):\n",
    "        distancias = {vertice: sys.maxsize for vertice in self.grafo}\n",
    "        distancias[origem] = 0\n",
    "        visitados = set()\n",
    "\n",
    "        while len(visitados) < len(self.grafo):\n",
    "            vertice_atual = None\n",
    "            menor_distancia = sys.maxsize\n",
    "\n",
    "            for vertice, distancia in distancias.items():\n",
    "                if distancia < menor_distancia and vertice not in visitados:\n",
    "                    vertice_atual = vertice\n",
    "                    menor_distancia = distancia\n",
    "\n",
    "            if vertice_atual is None:\n",
    "                break\n",
    "\n",
    "            visitados.add(vertice_atual)\n",
    "\n",
    "            for vizinho, peso in self.grafo[vertice_atual].items():\n",
    "                distancia = distancias[vertice_atual] + peso\n",
    "                if distancia < distancias[vizinho]:\n",
    "                    distancias[vizinho] = distancia\n",
    "\n",
    "        return distancias"
   ]
  },
  {
   "cell_type": "code",
   "execution_count": 17,
   "id": "cf3ddab8",
   "metadata": {},
   "outputs": [
    {
     "name": "stdout",
     "output_type": "stream",
     "text": [
      "Distância de A para A: 0\n",
      "Distância de A para B: 1\n",
      "Distância de A para C: 3\n",
      "Distância de A para D: 4\n",
      "Distância de A para E: 7\n"
     ]
    }
   ],
   "source": [
    "# Exemplo de uso:\n",
    "grafo = Grafo()\n",
    "grafo.adicionar_aresta(\"A\", \"B\", 1)\n",
    "grafo.adicionar_aresta(\"A\", \"C\", 4)\n",
    "grafo.adicionar_aresta(\"B\", \"C\", 2)\n",
    "grafo.adicionar_aresta(\"B\", \"D\", 5)\n",
    "grafo.adicionar_aresta(\"C\", \"D\", 1)\n",
    "grafo.adicionar_aresta(\"D\", \"E\", 3)\n",
    "\n",
    "origem = \"A\"\n",
    "distancias = grafo.dijkstra(origem)\n",
    "\n",
    "for vertice, distancia in distancias.items():\n",
    "    print(f\"Distância de {origem} para {vertice}: {distancia}\")"
   ]
  }
 ],
 "metadata": {
  "kernelspec": {
   "display_name": "Python 3 (ipykernel)",
   "language": "python",
   "name": "python3"
  },
  "language_info": {
   "codemirror_mode": {
    "name": "ipython",
    "version": 3
   },
   "file_extension": ".py",
   "mimetype": "text/x-python",
   "name": "python",
   "nbconvert_exporter": "python",
   "pygments_lexer": "ipython3",
   "version": "3.11.4"
  }
 },
 "nbformat": 4,
 "nbformat_minor": 5
}
