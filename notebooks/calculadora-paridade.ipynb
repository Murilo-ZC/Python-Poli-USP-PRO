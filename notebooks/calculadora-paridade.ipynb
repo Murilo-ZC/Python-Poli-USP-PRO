{
 "cells": [
  {
   "cell_type": "code",
   "execution_count": 1,
   "id": "7db31f67",
   "metadata": {},
   "outputs": [
    {
     "name": "stdout",
     "output_type": "stream",
     "text": [
      "Informe um número:42\n"
     ]
    }
   ],
   "source": [
    "# Realiza a leitura do dado do usuário\n",
    "numero = int(input(\"Informe um número:\"))"
   ]
  },
  {
   "cell_type": "code",
   "execution_count": 2,
   "id": "d00c86b6",
   "metadata": {},
   "outputs": [],
   "source": [
    "# verifica a paridade do valor informado\n",
    "paridade = numero % 2"
   ]
  },
  {
   "cell_type": "code",
   "execution_count": 3,
   "id": "20d4a6d6",
   "metadata": {},
   "outputs": [],
   "source": [
    "# determina se a saída será um resultado par ou ímpar\n",
    "resultado = \"par\"\n",
    "if paridade != 0:\n",
    "    resultado = \"ímpar\""
   ]
  },
  {
   "cell_type": "code",
   "execution_count": 4,
   "id": "78629ddd",
   "metadata": {},
   "outputs": [
    {
     "name": "stdout",
     "output_type": "stream",
     "text": [
      "Resultado da paridade: par\n"
     ]
    }
   ],
   "source": [
    "# exibe o resultado\n",
    "print(f\"Resultado da paridade: {resultado}\")"
   ]
  },
  {
   "cell_type": "code",
   "execution_count": null,
   "id": "42b9eb78",
   "metadata": {},
   "outputs": [],
   "source": []
  }
 ],
 "metadata": {
  "kernelspec": {
   "display_name": "Python 3 (ipykernel)",
   "language": "python",
   "name": "python3"
  },
  "language_info": {
   "codemirror_mode": {
    "name": "ipython",
    "version": 3
   },
   "file_extension": ".py",
   "mimetype": "text/x-python",
   "name": "python",
   "nbconvert_exporter": "python",
   "pygments_lexer": "ipython3",
   "version": "3.11.4"
  }
 },
 "nbformat": 4,
 "nbformat_minor": 5
}
